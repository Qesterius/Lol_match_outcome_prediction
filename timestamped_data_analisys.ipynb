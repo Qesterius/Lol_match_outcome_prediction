{
 "cells": [
  {
   "cell_type": "code",
   "execution_count": 1,
   "metadata": {},
   "outputs": [],
   "source": [
    "import pandas as pd\n",
    "\n",
    "timestamps_data = pd.read_csv('../siwsi-lol-matches-predictions/timestamps_ext.csv')"
   ]
  },
  {
   "cell_type": "code",
   "execution_count": 16,
   "metadata": {},
   "outputs": [
    {
     "name": "stdout",
     "output_type": "stream",
     "text": [
      "Collecting regex\n",
      "  Downloading regex-2024.5.15-cp310-cp310-win_amd64.whl (268 kB)\n",
      "     -------------------------------------- 269.0/269.0 KB 1.5 MB/s eta 0:00:00\n",
      "Installing collected packages: regex\n",
      "Successfully installed regex-2024.5.15\n"
     ]
    },
    {
     "name": "stderr",
     "output_type": "stream",
     "text": [
      "WARNING: You are using pip version 22.0.4; however, version 24.0 is available.\n",
      "You should consider upgrading via the 'E:\\Users\\qesterius\\Documents\\Studia\\sztuczna-inteligencja-w-systemach-inf\\.venv\\Scripts\\python.exe -m pip install --upgrade pip' command.\n"
     ]
    }
   ],
   "source": [
    "!pip install regex"
   ]
  },
  {
   "cell_type": "code",
   "execution_count": 22,
   "metadata": {},
   "outputs": [
    {
     "name": "stdout",
     "output_type": "stream",
     "text": [
      "['matchId', 'timeStamp', 'gameDuration', 'percentTimeStamp']\n",
      "{'movementSpeed', 'lifesteal', 'power', 'armorPenPercent', 'powerRegen', 'powerMax', 'currentGold', 'attackDamage', 'healthRegen', 'magicPenPercent', 'totalDamageTaken', 'magicDamageDone', 'bonusMagicPenPercent', 'armor', 'totalGold', 'trueDamageDone', 'cooldownReduction', 'jungleMinionsKilled', 'physicalVamp', 'participantId', 'trueDamageDoneToChampions', 'physicalDamageDoneToChampions', 'level', 'magicDamageDoneToChampions', 'physicalDamageTaken', 'timeEnemySpentControlled', 'magicDamageTaken', 'bonusArmorPenPercent', 'goldPerSecond', 'healthMax', 'omnivamp', 'magicResist', 'spellVamp', 'magicPen', 'attackSpeed', 'minionsKilled', 'physicalDamageDone', 'totalDamageDone', 'totalDamageDoneToChampions', 'championId', 'health', 'trueDamageTaken', 'abilityHaste', 'armorPen', 'abilityPower', 'xp', 'ccReduction'}\n"
     ]
    }
   ],
   "source": [
    "import regex as re\n",
    "\n",
    "reg = re.compile(r'p.*_(.*)')\n",
    "\n",
    "player_cols = [ col for col in timestamps_data.columns if reg.match(col) ]\n",
    "others = [ col for col in timestamps_data.columns if not reg.match(col) ]\n",
    "\n",
    "unplayer_cols = set([ reg.match(col).group(1) for col in player_cols ])\n"
   ]
  },
  {
   "cell_type": "markdown",
   "metadata": {},
   "source": [
    "Following features for each player had been collected"
   ]
  },
  {
   "cell_type": "code",
   "execution_count": 23,
   "metadata": {},
   "outputs": [
    {
     "name": "stdout",
     "output_type": "stream",
     "text": [
      "{'movementSpeed', 'lifesteal', 'power', 'armorPenPercent', 'powerRegen', 'powerMax', 'currentGold', 'attackDamage', 'healthRegen', 'magicPenPercent', 'totalDamageTaken', 'magicDamageDone', 'bonusMagicPenPercent', 'armor', 'totalGold', 'trueDamageDone', 'cooldownReduction', 'jungleMinionsKilled', 'physicalVamp', 'participantId', 'trueDamageDoneToChampions', 'physicalDamageDoneToChampions', 'level', 'magicDamageDoneToChampions', 'physicalDamageTaken', 'timeEnemySpentControlled', 'magicDamageTaken', 'bonusArmorPenPercent', 'goldPerSecond', 'healthMax', 'omnivamp', 'magicResist', 'spellVamp', 'magicPen', 'attackSpeed', 'minionsKilled', 'physicalDamageDone', 'totalDamageDone', 'totalDamageDoneToChampions', 'championId', 'health', 'trueDamageTaken', 'abilityHaste', 'armorPen', 'abilityPower', 'xp', 'ccReduction'}\n"
     ]
    }
   ],
   "source": [
    "print(unplayer_cols)"
   ]
  },
  {
   "cell_type": "markdown",
   "metadata": {},
   "source": [
    "Each record is also identified by following"
   ]
  },
  {
   "cell_type": "code",
   "execution_count": 24,
   "metadata": {},
   "outputs": [
    {
     "name": "stdout",
     "output_type": "stream",
     "text": [
      "['matchId', 'timeStamp', 'gameDuration', 'percentTimeStamp']\n"
     ]
    }
   ],
   "source": [
    "print(others)"
   ]
  },
  {
   "cell_type": "code",
   "execution_count": 25,
   "metadata": {},
   "outputs": [
    {
     "data": {
      "text/html": [
       "<div>\n",
       "<style scoped>\n",
       "    .dataframe tbody tr th:only-of-type {\n",
       "        vertical-align: middle;\n",
       "    }\n",
       "\n",
       "    .dataframe tbody tr th {\n",
       "        vertical-align: top;\n",
       "    }\n",
       "\n",
       "    .dataframe thead th {\n",
       "        text-align: right;\n",
       "    }\n",
       "</style>\n",
       "<table border=\"1\" class=\"dataframe\">\n",
       "  <thead>\n",
       "    <tr style=\"text-align: right;\">\n",
       "      <th></th>\n",
       "      <th>matchId</th>\n",
       "      <th>timeStamp</th>\n",
       "      <th>gameDuration</th>\n",
       "      <th>percentTimeStamp</th>\n",
       "    </tr>\n",
       "  </thead>\n",
       "  <tbody>\n",
       "    <tr>\n",
       "      <th>0</th>\n",
       "      <td>EUW1_6882416210</td>\n",
       "      <td>0</td>\n",
       "      <td>1623</td>\n",
       "      <td>0.000000</td>\n",
       "    </tr>\n",
       "    <tr>\n",
       "      <th>1</th>\n",
       "      <td>EUW1_6882416210</td>\n",
       "      <td>2</td>\n",
       "      <td>1623</td>\n",
       "      <td>0.073937</td>\n",
       "    </tr>\n",
       "    <tr>\n",
       "      <th>2</th>\n",
       "      <td>EUW1_6882416210</td>\n",
       "      <td>4</td>\n",
       "      <td>1623</td>\n",
       "      <td>0.147874</td>\n",
       "    </tr>\n",
       "    <tr>\n",
       "      <th>3</th>\n",
       "      <td>EUW1_6882416210</td>\n",
       "      <td>6</td>\n",
       "      <td>1623</td>\n",
       "      <td>0.221811</td>\n",
       "    </tr>\n",
       "    <tr>\n",
       "      <th>4</th>\n",
       "      <td>EUW1_6882416210</td>\n",
       "      <td>8</td>\n",
       "      <td>1623</td>\n",
       "      <td>0.295749</td>\n",
       "    </tr>\n",
       "  </tbody>\n",
       "</table>\n",
       "</div>"
      ],
      "text/plain": [
       "           matchId  timeStamp  gameDuration  percentTimeStamp\n",
       "0  EUW1_6882416210          0          1623          0.000000\n",
       "1  EUW1_6882416210          2          1623          0.073937\n",
       "2  EUW1_6882416210          4          1623          0.147874\n",
       "3  EUW1_6882416210          6          1623          0.221811\n",
       "4  EUW1_6882416210          8          1623          0.295749"
      ]
     },
     "execution_count": 25,
     "metadata": {},
     "output_type": "execute_result"
    }
   ],
   "source": [
    "timestamps_data[others].head()"
   ]
  },
  {
   "cell_type": "code",
   "execution_count": null,
   "metadata": {},
   "outputs": [],
   "source": [
    "matches_ids = timestamps_data['matchId'].unique()"
   ]
  },
  {
   "cell_type": "markdown",
   "metadata": {},
   "source": [
    "Building seperate dataframes for match data at 0% 30% 60% 70% 80% 100% "
   ]
  },
  {
   "cell_type": "code",
   "execution_count": 32,
   "metadata": {},
   "outputs": [],
   "source": [
    "timestamps_starting = timestamps_data[timestamps_data['timeStamp'] == 0]\n",
    "\n",
    "#for each match_id row with timestamp value closest to 0.3\n",
    "timestamps_30p = timestamps_data.loc[timestamps_data.groupby('matchId')['percentTimeStamp'].apply(lambda x: (x - 0.3).abs().idxmin()) ]\n",
    "timestamps_60p = timestamps_data.loc[timestamps_data.groupby('matchId')['percentTimeStamp'].apply(lambda x: (x - 0.6).abs().idxmin()) ]\n",
    "timestamps_80p = timestamps_data.loc[timestamps_data.groupby('matchId')['percentTimeStamp'].apply(lambda x: (x - 0.8).abs().idxmin()) ]\n",
    "timestamps_100p = timestamps_data.loc[timestamps_data.groupby('matchId')['percentTimeStamp'].apply(lambda x: (x - 1.0).abs().idxmin()) ]\n"
   ]
  },
  {
   "cell_type": "code",
   "execution_count": 31,
   "metadata": {},
   "outputs": [
    {
     "data": {
      "text/html": [
       "<div>\n",
       "<style scoped>\n",
       "    .dataframe tbody tr th:only-of-type {\n",
       "        vertical-align: middle;\n",
       "    }\n",
       "\n",
       "    .dataframe tbody tr th {\n",
       "        vertical-align: top;\n",
       "    }\n",
       "\n",
       "    .dataframe thead th {\n",
       "        text-align: right;\n",
       "    }\n",
       "</style>\n",
       "<table border=\"1\" class=\"dataframe\">\n",
       "  <thead>\n",
       "    <tr style=\"text-align: right;\">\n",
       "      <th></th>\n",
       "      <th>matchId</th>\n",
       "      <th>timeStamp</th>\n",
       "      <th>p1_currentGold</th>\n",
       "      <th>p2_currentGold</th>\n",
       "      <th>p3_currentGold</th>\n",
       "      <th>p4_currentGold</th>\n",
       "      <th>p5_currentGold</th>\n",
       "      <th>p6_currentGold</th>\n",
       "      <th>p7_currentGold</th>\n",
       "      <th>p8_currentGold</th>\n",
       "      <th>...</th>\n",
       "      <th>p2_championId</th>\n",
       "      <th>p3_championId</th>\n",
       "      <th>p4_championId</th>\n",
       "      <th>p5_championId</th>\n",
       "      <th>p6_championId</th>\n",
       "      <th>p7_championId</th>\n",
       "      <th>p8_championId</th>\n",
       "      <th>p9_championId</th>\n",
       "      <th>p10_championId</th>\n",
       "      <th>percentTimeStamp</th>\n",
       "    </tr>\n",
       "  </thead>\n",
       "  <tbody>\n",
       "    <tr>\n",
       "      <th>181593</th>\n",
       "      <td>EUN1_3352148551</td>\n",
       "      <td>10</td>\n",
       "      <td>591</td>\n",
       "      <td>754</td>\n",
       "      <td>190</td>\n",
       "      <td>1592</td>\n",
       "      <td>658</td>\n",
       "      <td>1275</td>\n",
       "      <td>1575</td>\n",
       "      <td>379</td>\n",
       "      <td>...</td>\n",
       "      <td>254</td>\n",
       "      <td>711</td>\n",
       "      <td>236</td>\n",
       "      <td>350</td>\n",
       "      <td>2</td>\n",
       "      <td>9</td>\n",
       "      <td>103</td>\n",
       "      <td>145</td>\n",
       "      <td>902</td>\n",
       "      <td>0.290698</td>\n",
       "    </tr>\n",
       "    <tr>\n",
       "      <th>181577</th>\n",
       "      <td>EUN1_3398662585</td>\n",
       "      <td>8</td>\n",
       "      <td>810</td>\n",
       "      <td>655</td>\n",
       "      <td>1126</td>\n",
       "      <td>1128</td>\n",
       "      <td>733</td>\n",
       "      <td>381</td>\n",
       "      <td>60</td>\n",
       "      <td>1088</td>\n",
       "      <td>...</td>\n",
       "      <td>33</td>\n",
       "      <td>145</td>\n",
       "      <td>29</td>\n",
       "      <td>267</td>\n",
       "      <td>887</td>\n",
       "      <td>120</td>\n",
       "      <td>81</td>\n",
       "      <td>523</td>\n",
       "      <td>902</td>\n",
       "      <td>0.289680</td>\n",
       "    </tr>\n",
       "    <tr>\n",
       "      <th>268651</th>\n",
       "      <td>EUN1_3485904588</td>\n",
       "      <td>10</td>\n",
       "      <td>654</td>\n",
       "      <td>391</td>\n",
       "      <td>458</td>\n",
       "      <td>266</td>\n",
       "      <td>34</td>\n",
       "      <td>617</td>\n",
       "      <td>353</td>\n",
       "      <td>97</td>\n",
       "      <td>...</td>\n",
       "      <td>141</td>\n",
       "      <td>134</td>\n",
       "      <td>221</td>\n",
       "      <td>79</td>\n",
       "      <td>90</td>\n",
       "      <td>64</td>\n",
       "      <td>24</td>\n",
       "      <td>29</td>\n",
       "      <td>412</td>\n",
       "      <td>0.280112</td>\n",
       "    </tr>\n",
       "    <tr>\n",
       "      <th>268632</th>\n",
       "      <td>EUN1_3485954312</td>\n",
       "      <td>12</td>\n",
       "      <td>1329</td>\n",
       "      <td>1754</td>\n",
       "      <td>97</td>\n",
       "      <td>728</td>\n",
       "      <td>202</td>\n",
       "      <td>601</td>\n",
       "      <td>95</td>\n",
       "      <td>743</td>\n",
       "      <td>...</td>\n",
       "      <td>141</td>\n",
       "      <td>157</td>\n",
       "      <td>29</td>\n",
       "      <td>117</td>\n",
       "      <td>86</td>\n",
       "      <td>57</td>\n",
       "      <td>38</td>\n",
       "      <td>145</td>\n",
       "      <td>111</td>\n",
       "      <td>0.320856</td>\n",
       "    </tr>\n",
       "    <tr>\n",
       "      <th>268612</th>\n",
       "      <td>EUN1_3486589707</td>\n",
       "      <td>10</td>\n",
       "      <td>7</td>\n",
       "      <td>216</td>\n",
       "      <td>844</td>\n",
       "      <td>2332</td>\n",
       "      <td>1038</td>\n",
       "      <td>1086</td>\n",
       "      <td>276</td>\n",
       "      <td>1532</td>\n",
       "      <td>...</td>\n",
       "      <td>57</td>\n",
       "      <td>38</td>\n",
       "      <td>145</td>\n",
       "      <td>117</td>\n",
       "      <td>83</td>\n",
       "      <td>32</td>\n",
       "      <td>134</td>\n",
       "      <td>29</td>\n",
       "      <td>26</td>\n",
       "      <td>0.282486</td>\n",
       "    </tr>\n",
       "  </tbody>\n",
       "</table>\n",
       "<p>5 rows × 474 columns</p>\n",
       "</div>"
      ],
      "text/plain": [
       "                matchId  timeStamp  p1_currentGold  p2_currentGold  \\\n",
       "181593  EUN1_3352148551         10             591             754   \n",
       "181577  EUN1_3398662585          8             810             655   \n",
       "268651  EUN1_3485904588         10             654             391   \n",
       "268632  EUN1_3485954312         12            1329            1754   \n",
       "268612  EUN1_3486589707         10               7             216   \n",
       "\n",
       "        p3_currentGold  p4_currentGold  p5_currentGold  p6_currentGold  \\\n",
       "181593             190            1592             658            1275   \n",
       "181577            1126            1128             733             381   \n",
       "268651             458             266              34             617   \n",
       "268632              97             728             202             601   \n",
       "268612             844            2332            1038            1086   \n",
       "\n",
       "        p7_currentGold  p8_currentGold  ...  p2_championId  p3_championId  \\\n",
       "181593            1575             379  ...            254            711   \n",
       "181577              60            1088  ...             33            145   \n",
       "268651             353              97  ...            141            134   \n",
       "268632              95             743  ...            141            157   \n",
       "268612             276            1532  ...             57             38   \n",
       "\n",
       "        p4_championId  p5_championId  p6_championId  p7_championId  \\\n",
       "181593            236            350              2              9   \n",
       "181577             29            267            887            120   \n",
       "268651            221             79             90             64   \n",
       "268632             29            117             86             57   \n",
       "268612            145            117             83             32   \n",
       "\n",
       "        p8_championId  p9_championId  p10_championId  percentTimeStamp  \n",
       "181593            103            145             902          0.290698  \n",
       "181577             81            523             902          0.289680  \n",
       "268651             24             29             412          0.280112  \n",
       "268632             38            145             111          0.320856  \n",
       "268612            134             29              26          0.282486  \n",
       "\n",
       "[5 rows x 474 columns]"
      ]
     },
     "execution_count": 31,
     "metadata": {},
     "output_type": "execute_result"
    }
   ],
   "source": [
    "timestamps_30p.head()"
   ]
  },
  {
   "cell_type": "markdown",
   "metadata": {},
   "source": [
    "Training: idea to start with records that are above 80% of completion and further train with lower learning rate on earlier timestamps "
   ]
  },
  {
   "cell_type": "code",
   "execution_count": 3,
   "metadata": {},
   "outputs": [],
   "source": [
    "target = pd.read_csv('../siwsi-lol-matches-predictions/first_win.csv')"
   ]
  },
  {
   "cell_type": "code",
   "execution_count": 4,
   "metadata": {},
   "outputs": [
    {
     "data": {
      "text/html": [
       "<div>\n",
       "<style scoped>\n",
       "    .dataframe tbody tr th:only-of-type {\n",
       "        vertical-align: middle;\n",
       "    }\n",
       "\n",
       "    .dataframe tbody tr th {\n",
       "        vertical-align: top;\n",
       "    }\n",
       "\n",
       "    .dataframe thead th {\n",
       "        text-align: right;\n",
       "    }\n",
       "</style>\n",
       "<table border=\"1\" class=\"dataframe\">\n",
       "  <thead>\n",
       "    <tr style=\"text-align: right;\">\n",
       "      <th></th>\n",
       "      <th>matchId</th>\n",
       "      <th>timeStamp</th>\n",
       "      <th>p1_currentGold</th>\n",
       "      <th>p2_currentGold</th>\n",
       "      <th>p3_currentGold</th>\n",
       "      <th>p4_currentGold</th>\n",
       "      <th>p5_currentGold</th>\n",
       "      <th>p6_currentGold</th>\n",
       "      <th>p7_currentGold</th>\n",
       "      <th>p8_currentGold</th>\n",
       "      <th>...</th>\n",
       "      <th>p1_damageStats_trueDamageTaken</th>\n",
       "      <th>p2_damageStats_trueDamageTaken</th>\n",
       "      <th>p3_damageStats_trueDamageTaken</th>\n",
       "      <th>p4_damageStats_trueDamageTaken</th>\n",
       "      <th>p5_damageStats_trueDamageTaken</th>\n",
       "      <th>p6_damageStats_trueDamageTaken</th>\n",
       "      <th>p7_damageStats_trueDamageTaken</th>\n",
       "      <th>p8_damageStats_trueDamageTaken</th>\n",
       "      <th>p9_damageStats_trueDamageTaken</th>\n",
       "      <th>p10_damageStats_trueDamageTaken</th>\n",
       "    </tr>\n",
       "  </thead>\n",
       "  <tbody>\n",
       "    <tr>\n",
       "      <th>0</th>\n",
       "      <td>EUW1_6882416210</td>\n",
       "      <td>0</td>\n",
       "      <td>500</td>\n",
       "      <td>500</td>\n",
       "      <td>500</td>\n",
       "      <td>500</td>\n",
       "      <td>500</td>\n",
       "      <td>500</td>\n",
       "      <td>500</td>\n",
       "      <td>500</td>\n",
       "      <td>...</td>\n",
       "      <td>0</td>\n",
       "      <td>0</td>\n",
       "      <td>0</td>\n",
       "      <td>0</td>\n",
       "      <td>0</td>\n",
       "      <td>0</td>\n",
       "      <td>0</td>\n",
       "      <td>0</td>\n",
       "      <td>0</td>\n",
       "      <td>0</td>\n",
       "    </tr>\n",
       "    <tr>\n",
       "      <th>1</th>\n",
       "      <td>EUW1_6882416210</td>\n",
       "      <td>2</td>\n",
       "      <td>63</td>\n",
       "      <td>96</td>\n",
       "      <td>42</td>\n",
       "      <td>91</td>\n",
       "      <td>49</td>\n",
       "      <td>68</td>\n",
       "      <td>111</td>\n",
       "      <td>105</td>\n",
       "      <td>...</td>\n",
       "      <td>0</td>\n",
       "      <td>0</td>\n",
       "      <td>0</td>\n",
       "      <td>0</td>\n",
       "      <td>0</td>\n",
       "      <td>61</td>\n",
       "      <td>0</td>\n",
       "      <td>0</td>\n",
       "      <td>0</td>\n",
       "      <td>0</td>\n",
       "    </tr>\n",
       "    <tr>\n",
       "      <th>2</th>\n",
       "      <td>EUW1_6882416210</td>\n",
       "      <td>4</td>\n",
       "      <td>248</td>\n",
       "      <td>196</td>\n",
       "      <td>546</td>\n",
       "      <td>983</td>\n",
       "      <td>105</td>\n",
       "      <td>758</td>\n",
       "      <td>237</td>\n",
       "      <td>672</td>\n",
       "      <td>...</td>\n",
       "      <td>138</td>\n",
       "      <td>80</td>\n",
       "      <td>0</td>\n",
       "      <td>0</td>\n",
       "      <td>22</td>\n",
       "      <td>318</td>\n",
       "      <td>29</td>\n",
       "      <td>0</td>\n",
       "      <td>0</td>\n",
       "      <td>0</td>\n",
       "    </tr>\n",
       "    <tr>\n",
       "      <th>3</th>\n",
       "      <td>EUW1_6882416210</td>\n",
       "      <td>6</td>\n",
       "      <td>454</td>\n",
       "      <td>213</td>\n",
       "      <td>721</td>\n",
       "      <td>53</td>\n",
       "      <td>135</td>\n",
       "      <td>1075</td>\n",
       "      <td>222</td>\n",
       "      <td>571</td>\n",
       "      <td>...</td>\n",
       "      <td>258</td>\n",
       "      <td>80</td>\n",
       "      <td>0</td>\n",
       "      <td>0</td>\n",
       "      <td>22</td>\n",
       "      <td>471</td>\n",
       "      <td>209</td>\n",
       "      <td>0</td>\n",
       "      <td>0</td>\n",
       "      <td>40</td>\n",
       "    </tr>\n",
       "    <tr>\n",
       "      <th>4</th>\n",
       "      <td>EUW1_6882416210</td>\n",
       "      <td>8</td>\n",
       "      <td>410</td>\n",
       "      <td>841</td>\n",
       "      <td>94</td>\n",
       "      <td>1386</td>\n",
       "      <td>708</td>\n",
       "      <td>1076</td>\n",
       "      <td>773</td>\n",
       "      <td>166</td>\n",
       "      <td>...</td>\n",
       "      <td>709</td>\n",
       "      <td>80</td>\n",
       "      <td>0</td>\n",
       "      <td>56</td>\n",
       "      <td>22</td>\n",
       "      <td>719</td>\n",
       "      <td>209</td>\n",
       "      <td>0</td>\n",
       "      <td>0</td>\n",
       "      <td>40</td>\n",
       "    </tr>\n",
       "  </tbody>\n",
       "</table>\n",
       "<p>5 rows × 462 columns</p>\n",
       "</div>"
      ],
      "text/plain": [
       "           matchId  timeStamp  p1_currentGold  p2_currentGold  p3_currentGold  \\\n",
       "0  EUW1_6882416210          0             500             500             500   \n",
       "1  EUW1_6882416210          2              63              96              42   \n",
       "2  EUW1_6882416210          4             248             196             546   \n",
       "3  EUW1_6882416210          6             454             213             721   \n",
       "4  EUW1_6882416210          8             410             841              94   \n",
       "\n",
       "   p4_currentGold  p5_currentGold  p6_currentGold  p7_currentGold  \\\n",
       "0             500             500             500             500   \n",
       "1              91              49              68             111   \n",
       "2             983             105             758             237   \n",
       "3              53             135            1075             222   \n",
       "4            1386             708            1076             773   \n",
       "\n",
       "   p8_currentGold  ...  p1_damageStats_trueDamageTaken  \\\n",
       "0             500  ...                               0   \n",
       "1             105  ...                               0   \n",
       "2             672  ...                             138   \n",
       "3             571  ...                             258   \n",
       "4             166  ...                             709   \n",
       "\n",
       "   p2_damageStats_trueDamageTaken  p3_damageStats_trueDamageTaken  \\\n",
       "0                               0                               0   \n",
       "1                               0                               0   \n",
       "2                              80                               0   \n",
       "3                              80                               0   \n",
       "4                              80                               0   \n",
       "\n",
       "   p4_damageStats_trueDamageTaken  p5_damageStats_trueDamageTaken  \\\n",
       "0                               0                               0   \n",
       "1                               0                               0   \n",
       "2                               0                              22   \n",
       "3                               0                              22   \n",
       "4                              56                              22   \n",
       "\n",
       "   p6_damageStats_trueDamageTaken  p7_damageStats_trueDamageTaken  \\\n",
       "0                               0                               0   \n",
       "1                              61                               0   \n",
       "2                             318                              29   \n",
       "3                             471                             209   \n",
       "4                             719                             209   \n",
       "\n",
       "   p8_damageStats_trueDamageTaken  p9_damageStats_trueDamageTaken  \\\n",
       "0                               0                               0   \n",
       "1                               0                               0   \n",
       "2                               0                               0   \n",
       "3                               0                               0   \n",
       "4                               0                               0   \n",
       "\n",
       "   p10_damageStats_trueDamageTaken  \n",
       "0                                0  \n",
       "1                                0  \n",
       "2                                0  \n",
       "3                               40  \n",
       "4                               40  \n",
       "\n",
       "[5 rows x 462 columns]"
      ]
     },
     "execution_count": 4,
     "metadata": {},
     "output_type": "execute_result"
    }
   ],
   "source": [
    "timestamps_data.head()"
   ]
  },
  {
   "cell_type": "code",
   "execution_count": 5,
   "metadata": {},
   "outputs": [],
   "source": [
    "target.columns = ['matchId', 'first_win']"
   ]
  },
  {
   "cell_type": "code",
   "execution_count": 6,
   "metadata": {},
   "outputs": [],
   "source": [
    "data = timestamps_data.merge(target, on='matchId')"
   ]
  },
  {
   "cell_type": "code",
   "execution_count": 7,
   "metadata": {},
   "outputs": [
    {
     "data": {
      "text/plain": [
       "(363982, 463)"
      ]
     },
     "execution_count": 7,
     "metadata": {},
     "output_type": "execute_result"
    }
   ],
   "source": [
    "data.shape"
   ]
  },
  {
   "cell_type": "code",
   "execution_count": 20,
   "metadata": {},
   "outputs": [],
   "source": [
    "import torch\n",
    "import torch.nn as nn\n",
    "\n",
    "class MLP(nn.Module):\n",
    "    def __init__(self):\n",
    "        super(MLP, self).__init__()\n",
    "        self.layers = nn.Sequential(\n",
    "            nn.Linear(461, 1000),\n",
    "            nn.ReLU(),\n",
    "            nn.Linear(1000, 600),\n",
    "            nn.ReLU(),\n",
    "            nn.Linear(600, 300),\n",
    "            nn.ReLU(),\n",
    "            nn.Linear(300, 1),\n",
    "            nn.Sigmoid()\n",
    "        )\n",
    "    \n",
    "    def forward(self, x):\n",
    "        return self.layers(x)\n",
    "\n",
    "model = MLP()\n",
    "import torch.optim as optim\n",
    "\n",
    "optimizer = optim.Adam(model.parameters(), lr=0.001)"
   ]
  },
  {
   "cell_type": "code",
   "execution_count": 18,
   "metadata": {},
   "outputs": [],
   "source": [
    "#split data\n",
    "from sklearn.model_selection import train_test_split\n",
    "import torch\n",
    "\n",
    "Y = data['first_win']\n",
    "X = data.drop(columns=['matchId', 'first_win'])\n",
    "\n",
    "X_train, X_test, Y_train, Y_test = train_test_split(X, Y, test_size=0.2, shuffle=True)\n",
    "\n",
    "X_train = torch.tensor(X_train.values, dtype=torch.float32)\n",
    "X_test = torch.tensor(X_test.values, dtype=torch.float32)\n",
    "Y_train = torch.tensor(Y_train.values, dtype=torch.float32)\n",
    "Y_test = torch.tensor(Y_test.values, dtype=torch.float32)\n",
    "\n",
    "from torch.utils.data import DataLoader, TensorDataset\n",
    "\n",
    "training_data = TensorDataset(X_train, Y_train)\n",
    "test_data = TensorDataset(X_test, Y_test)"
   ]
  },
  {
   "cell_type": "code",
   "execution_count": 33,
   "metadata": {},
   "outputs": [
    {
     "name": "stdout",
     "output_type": "stream",
     "text": [
      "Epoch 1/5 Loss: 0.08251339705277741\n",
      "Epoch 2/5 Loss: 0.08134504982077294\n",
      "Epoch 3/5 Loss: 0.08141123055081213\n",
      "Epoch 4/5 Loss: 0.08220361052960065\n",
      "Epoch 5/5 Loss: 0.08219645586139396\n"
     ]
    },
    {
     "data": {
      "text/plain": [
       "[<matplotlib.lines.Line2D at 0x23890f30970>]"
      ]
     },
     "execution_count": 33,
     "metadata": {},
     "output_type": "execute_result"
    },
    {
     "data": {
      "image/png": "[encoded data removed]",
      "text/plain": [
       "<Figure size 640x480 with 1 Axes>"
      ]
     },
     "metadata": {},
     "output_type": "display_data"
    }
   ],
   "source": [
    "import matplotlib.pyplot as plt\n",
    "\n",
    "epochs = 5\n",
    "epoch_loss = []\n",
    "lloss_h = []\n",
    "criterion = nn.BCELoss()\n",
    "for epoch in range(epochs):\n",
    "    loss_history = []\n",
    "    model.train()\n",
    "    \n",
    "    for x, y in DataLoader(training_data, batch_size=64, sampler=torch.utils.data.RandomSampler(training_data, replacement=True, num_samples=30000)):\n",
    "        optimizer.zero_grad()   \n",
    "        output = model(x).flatten()\n",
    "        loss = criterion(output, y)\n",
    "        loss.backward()\n",
    "        optimizer.step()\n",
    "        \n",
    "        loss_history.append(loss.item())\n",
    "    \n",
    "    lloss_h.extend(loss_history)\n",
    "    epoch_loss.append(sum(loss_history)/len(training_data))\n",
    "    print(f'Epoch {epoch+1}/{epochs} Loss: {epoch_loss[-1]}') \n",
    "    \n",
    "plt.plot(lloss_h)"
   ]
  },
  {
   "cell_type": "code",
   "execution_count": 28,
   "metadata": {},
   "outputs": [
    {
     "data": {
      "text/plain": [
       "2299808"
      ]
     },
     "execution_count": 28,
     "metadata": {},
     "output_type": "execute_result"
    }
   ],
   "source": [
    "accurate"
   ]
  },
  {
   "cell_type": "code",
   "execution_count": 32,
   "metadata": {},
   "outputs": [
    {
     "name": "stdout",
     "output_type": "stream",
     "text": [
      "Accuracy: 0.49249282250642196\n"
     ]
    }
   ],
   "source": [
    "accurate = 0\n",
    "for x, y in DataLoader(test_data, batch_size=64, shuffle=True):\n",
    "    output = model(x).flatten()\n",
    "    output = torch.round(output)\n",
    "    accurate += (output == y).sum().item()\n",
    "print(f'Accuracy: {accurate/len(test_data)}')"
   ]
  },
  {
   "cell_type": "code",
   "execution_count": null,
   "metadata": {},
   "outputs": [],
   "source": []
  }
 ],
 "metadata": {
  "kernelspec": {
   "display_name": ".venv",
   "language": "python",
   "name": "python3"
  },
  "language_info": {
   "codemirror_mode": {
    "name": "ipython",
    "version": 3
   },
   "file_extension": ".py",
   "mimetype": "text/x-python",
   "name": "python",
   "nbconvert_exporter": "python",
   "pygments_lexer": "ipython3",
   "version": "3.10.5"
  }
 },
 "nbformat": 4,
 "nbformat_minor": 2
}
