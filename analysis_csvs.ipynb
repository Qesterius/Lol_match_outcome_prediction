{
 "cells": [
  {
   "metadata": {
    "jupyter": {
     "is_executing": true
    },
    "ExecuteTime": {
     "start_time": "2024-06-03T13:06:45.623578Z"
    }
   },
   "cell_type": "code",
   "source": [
    "import pandas as pd\n",
    "import re\n",
    "\n",
    "timestamps_data = pd.read_csv('data_csv/timestamps_ext.csv')\n",
    "target = pd.read_csv('data_csv/first_win.csv')\n",
    "\n",
    "target.columns = ['matchId', 'first_win']\n",
    "data = timestamps_data.merge(target, on='matchId')"
   ],
   "id": "6aabd5cbe1910c9c",
   "outputs": [],
   "execution_count": null
  },
  {
   "metadata": {
    "jupyter": {
     "is_executing": true
    }
   },
   "cell_type": "code",
   "source": [
    "others = ['matchId', 'timeStamp', 'percentTimeStamp', \"gameDuration\"]\n",
    "\n",
    "blue_team_pattern = re.compile(r'p[1-5]_(.*)')\n",
    "red_team_pattern = re.compile(r'p(6|7|8|9|10)_(.*)')\n",
    "\n",
    "blue_team_columns = {}\n",
    "red_team_columns = {}\n",
    "\n",
    "for col in data.columns:\n",
    "    if blue_team_pattern.match(col):\n",
    "        feature_name = blue_team_pattern.match(col).group(1)\n",
    "        if feature_name not in blue_team_columns:\n",
    "            blue_team_columns[feature_name] = []\n",
    "        blue_team_columns[feature_name].append(col)\n",
    "    elif red_team_pattern.match(col):\n",
    "        feature_name = red_team_pattern.match(col).group(2)\n",
    "        if feature_name not in red_team_columns:\n",
    "            red_team_columns[feature_name] = []\n",
    "        red_team_columns[feature_name].append(col)\n",
    "\n",
    "def aggregate_team_columns(data, team_columns, team_prefix):\n",
    "    for feature, columns in team_columns.items():\n",
    "        aggregated_column = f'{team_prefix}_{feature}'\n",
    "        data[aggregated_column] = data[columns].sum(axis=1)\n",
    "        data.drop(columns=columns, inplace=True)\n",
    "    return data\n",
    "\n",
    "data = aggregate_team_columns(data, blue_team_columns, 'blue')\n",
    "data = aggregate_team_columns(data, red_team_columns, 'red')"
   ],
   "id": "6fd13eb728cd92bc",
   "outputs": [],
   "execution_count": null
  },
  {
   "metadata": {
    "jupyter": {
     "is_executing": true
    }
   },
   "cell_type": "code",
   "source": [
    "missing_values = data.isnull().sum()\n",
    "\n",
    "print(\"Columns with missing values:\")\n",
    "print(missing_values[missing_values > 0])\n",
    "\n",
    "# Count the number of rows with missing values\n",
    "missing_rows = data.isnull().any(axis=1).sum()\n",
    "total_rows = data.shape[0]\n",
    "\n",
    "print(f\"\\nTotal number of rows: {total_rows}\")\n",
    "print(f\"Number of rows with missing values: {missing_rows}\")\n",
    "\n",
    "# If the number of rows with missing values is small, drop them\n",
    "if missing_rows > 0:\n",
    "    data_cleaned = data.dropna()\n",
    "    print(f\"\\nNumber of rows after dropping missing values: {data_cleaned.shape[0]}\")\n",
    "else:\n",
    "    data_cleaned = data\n",
    "\n",
    "# Identify and remove constant columns\n",
    "constant_columns = [col for col in data_cleaned.columns if data_cleaned[col].nunique() <= 1]\n",
    "print(f\"\\nConstant columns to be removed: {constant_columns}\")\n",
    "\n",
    "data_cleaned = data_cleaned.drop(columns=constant_columns)\n",
    "\n",
    "X = data_cleaned.drop(columns=['first_win'] + others)\n",
    "y = data_cleaned['first_win']"
   ],
   "id": "83fb9ed4371acfeb",
   "outputs": [],
   "execution_count": null
  },
  {
   "cell_type": "code",
   "id": "initial_id",
   "metadata": {
    "collapsed": true,
    "jupyter": {
     "is_executing": true
    }
   },
   "source": [
    "timestamps_starting = data[data['timeStamp'] == 0]\n",
    "timestamps_30p = data_cleaned.loc[data_cleaned.groupby('matchId')['percentTimeStamp'].apply(lambda x: (x - 0.3).abs().idxmin())]\n",
    "timestamps_60p = data_cleaned.loc[data_cleaned.groupby('matchId')['percentTimeStamp'].apply(lambda x: (x - 0.6).abs().idxmin())]\n",
    "timestamps_80p = data_cleaned.loc[data_cleaned.groupby('matchId')['percentTimeStamp'].apply(lambda x: (x - 0.8).abs().idxmin())]\n",
    "timestamps_100p = data_cleaned.loc[data_cleaned.groupby('matchId')['percentTimeStamp'].apply(lambda x: (x - 1.0).abs().idxmin())]"
   ],
   "outputs": [],
   "execution_count": null
  },
  {
   "metadata": {
    "jupyter": {
     "is_executing": true
    }
   },
   "cell_type": "code",
   "source": [
    "timestamps = []\n",
    "X_0 = timestamps_starting.drop(columns=['first_win']+others)\n",
    "y_0 =timestamps_starting['first_win']\n",
    "timestamps.append((X_0, y_0, '0'))\n",
    "\n",
    "X_30 = timestamps_30p.drop(columns=['first_win'] + others)\n",
    "y_30 = timestamps_30p['first_win']\n",
    "timestamps.append((X_30, y_30, '30'))\n",
    "\n",
    "X_60 = timestamps_60p.drop(columns=['first_win'] + others)\n",
    "y_60 = timestamps_60p['first_win']\n",
    "timestamps.append((X_60, y_60, '60'))\n",
    "\n",
    "X_80 = timestamps_80p.drop(columns=['first_win'] + others)\n",
    "y_80 = timestamps_80p['first_win']\n",
    "timestamps.append((X_80, y_80, '80'))\n",
    "\n",
    "X_100 = timestamps_100p.drop(columns=['first_win'] + others)\n",
    "y_100 = timestamps_100p['first_win']\n",
    "timestamps.append((X_100, y_100, '100'))"
   ],
   "id": "d41c0e90e0b28ab8",
   "outputs": [],
   "execution_count": null
  },
  {
   "metadata": {
    "jupyter": {
     "is_executing": true
    }
   },
   "cell_type": "code",
   "source": [
    "correlations = X.corrwith(y).sort_values(ascending=False)\n",
    "\n",
    "print(\"\\nTop 10 features most positively correlated with 'first_win':\")\n",
    "print(correlations.head(10))\n",
    "\n",
    "print(\"\\nTop 10 features most negatively correlated with 'first_win':\")\n",
    "print(correlations.tail(10))\n"
   ],
   "id": "d8df92f555038874",
   "outputs": [],
   "execution_count": null
  },
  {
   "metadata": {
    "jupyter": {
     "is_executing": true
    }
   },
   "cell_type": "code",
   "source": [
    "from sklearn.ensemble import HistGradientBoostingClassifier\n",
    "from sklearn.model_selection import train_test_split\n",
    "from sklearn.linear_model import LogisticRegression\n",
    "from sklearn.tree import DecisionTreeClassifier\n",
    "from sklearn.ensemble import RandomForestClassifier\n",
    "from sklearn.metrics import accuracy_score, classification_report, confusion_matrix\n",
    "\n",
    "def evaluate_model(model, X, y):\n",
    "    X_train, X_test, y_train, y_test = train_test_split(X, y, test_size=0.3, random_state=42)\n",
    "\n",
    "    model.fit(X_train, y_train)\n",
    "\n",
    "    y_pred = model.predict(X_test)\n",
    "\n",
    "    accuracy = accuracy_score(y_test, y_pred)\n",
    "\n",
    "    print(f\"Model: {model.__class__.__name__}\")\n",
    "    print(f\"Accuracy: {accuracy:.4f}\")\n",
    "\n",
    "models = [\n",
    "    LogisticRegression(random_state=42, n_jobs=-1),\n",
    "    DecisionTreeClassifier(random_state=42),\n",
    "    RandomForestClassifier(random_state=42, n_jobs=-1),\n",
    "    HistGradientBoostingClassifier(random_state=42)\n",
    "]"
   ],
   "id": "65c03db5dde910c6",
   "outputs": [],
   "execution_count": null
  },
  {
   "metadata": {
    "jupyter": {
     "is_executing": true
    }
   },
   "cell_type": "code",
   "source": [
    "from sklearn.model_selection import cross_val_score\n",
    "\n",
    "def cross_val_model(model, X, y):\n",
    "    # Perform cross-validation and get accuracy scores\n",
    "    scores = cross_val_score(model, X, y, cv=5, n_jobs=-1, scoring='accuracy')\n",
    "    # Print the model's class name\n",
    "    print(f\"Model: {model.__class__.__name__}\")\n",
    "    # Print all cross-validation scores\n",
    "    print(f\"Cross-validation scores (Accuracy): {scores}\")\n",
    "    # Print the mean cross-validation score\n",
    "    print(f\"Mean cross-validation score (Accuracy): {scores.mean():.4f}\\n\")"
   ],
   "id": "854d5bd56287fd4f",
   "outputs": [],
   "execution_count": null
  },
  {
   "metadata": {
    "jupyter": {
     "is_executing": true
    }
   },
   "cell_type": "code",
   "source": [
    "def test_timestamp(timestamp):\n",
    "    X, y, name = timestamp\n",
    "    print('timestamp at {} percent'.format(name))\n",
    "    for model in models:\n",
    "        evaluate_model(model, X, y)\n",
    "    \n",
    "    # uncomment to also test with cross_validation - takes more time and results are similar so I left it commented out for now\n",
    "    # for model in models:\n",
    "    #     cross_val_model(model, X, y)"
   ],
   "id": "d69e4635913dde0a",
   "outputs": [],
   "execution_count": null
  },
  {
   "metadata": {
    "jupyter": {
     "is_executing": true
    }
   },
   "cell_type": "code",
   "source": "test_timestamp(timestamps[0])",
   "id": "e88d0dc690281015",
   "outputs": [],
   "execution_count": null
  },
  {
   "metadata": {
    "jupyter": {
     "is_executing": true
    }
   },
   "cell_type": "code",
   "source": "test_timestamp(timestamps[1])",
   "id": "a39ff740017753f3",
   "outputs": [],
   "execution_count": null
  },
  {
   "metadata": {
    "jupyter": {
     "is_executing": true
    }
   },
   "cell_type": "code",
   "source": "test_timestamp(timestamps[2])",
   "id": "10cfa276f8444626",
   "outputs": [],
   "execution_count": null
  },
  {
   "metadata": {
    "jupyter": {
     "is_executing": true
    }
   },
   "cell_type": "code",
   "source": "test_timestamp(timestamps[3])",
   "id": "a6a752c9626b0ba6",
   "outputs": [],
   "execution_count": null
  },
  {
   "metadata": {
    "jupyter": {
     "is_executing": true
    }
   },
   "cell_type": "code",
   "source": "test_timestamp(timestamps[4])",
   "id": "2db47542494f2647",
   "outputs": [],
   "execution_count": null
  }
 ],
 "metadata": {
  "kernelspec": {
   "display_name": "Python 3",
   "language": "python",
   "name": "python3"
  },
  "language_info": {
   "codemirror_mode": {
    "name": "ipython",
    "version": 2
   },
   "file_extension": ".py",
   "mimetype": "text/x-python",
   "name": "python",
   "nbconvert_exporter": "python",
   "pygments_lexer": "ipython2",
   "version": "2.7.6"
  }
 },
 "nbformat": 4,
 "nbformat_minor": 5
}
